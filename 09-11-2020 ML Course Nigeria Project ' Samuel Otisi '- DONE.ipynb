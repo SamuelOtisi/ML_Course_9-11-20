{
 "cells": [
  {
   "cell_type": "markdown",
   "metadata": {},
   "source": [
    "# Project\n",
    "\n",
    "In this project, our aim is to building a model for predicting churn. Churn is the percentage of customers that stopped using your company's product or service during a certain time frame. Thus, in the given dataset, our label will be `Churn` column.\n",
    "\n",
    "## Steps\n",
    "- Read the `churn.csv` file and describe it.\n",
    "- Make at least 4 different analysis on Exploratory Data Analysis section.\n",
    "- Pre-process the dataset to get ready for ML application. (Check missing data and handle them, can we need to do scaling or feature extraction etc.)\n",
    "- Define appropriate evaluation metric for our case (classification).\n",
    "- Train and evaluate Logistic Regression, Decision Trees and one other appropriate algorithm which you can choose from scikit-learn library.\n",
    "- Is there any overfitting and underfitting? Interpret your results and try to overcome if there is any problem in a new section.\n",
    "- Create confusion metrics for each algorithm and display Accuracy, Recall, Precision and F1-Score values.\n",
    "- Analyse and compare results of 3 algorithms.\n",
    "- Select best performing model based on evaluation metric you chose on test dataset.\n",
    "\n",
    "\n",
    "Good luck :)"
   ]
  },
  {
   "cell_type": "markdown",
   "metadata": {},
   "source": [
    "<h2>Samuel Otisi</h2> "
   ]
  },
  {
   "cell_type": "markdown",
   "metadata": {},
   "source": [
    "# Data"
   ]
  },
  {
   "cell_type": "code",
   "execution_count": 2,
   "metadata": {},
   "outputs": [],
   "source": [
    "import pandas as pd\n",
    "import seaborn as sns\n",
    "import numpy as np\n",
    "import matplotlib.pyplot as plt"
   ]
  },
  {
   "cell_type": "code",
   "execution_count": 3,
   "metadata": {},
   "outputs": [
    {
     "data": {
      "text/html": [
       "<div>\n",
       "<style scoped>\n",
       "    .dataframe tbody tr th:only-of-type {\n",
       "        vertical-align: middle;\n",
       "    }\n",
       "\n",
       "    .dataframe tbody tr th {\n",
       "        vertical-align: top;\n",
       "    }\n",
       "\n",
       "    .dataframe thead th {\n",
       "        text-align: right;\n",
       "    }\n",
       "</style>\n",
       "<table border=\"1\" class=\"dataframe\">\n",
       "  <thead>\n",
       "    <tr style=\"text-align: right;\">\n",
       "      <th></th>\n",
       "      <th>Churn</th>\n",
       "      <th>AccountWeeks</th>\n",
       "      <th>ContractRenewal</th>\n",
       "      <th>DataPlan</th>\n",
       "      <th>DataUsage</th>\n",
       "      <th>CustServCalls</th>\n",
       "      <th>DayMins</th>\n",
       "      <th>DayCalls</th>\n",
       "      <th>MonthlyCharge</th>\n",
       "      <th>OverageFee</th>\n",
       "      <th>RoamMins</th>\n",
       "    </tr>\n",
       "  </thead>\n",
       "  <tbody>\n",
       "    <tr>\n",
       "      <td>0</td>\n",
       "      <td>0</td>\n",
       "      <td>128</td>\n",
       "      <td>1</td>\n",
       "      <td>1</td>\n",
       "      <td>2.7</td>\n",
       "      <td>1</td>\n",
       "      <td>265.1</td>\n",
       "      <td>110</td>\n",
       "      <td>89.0</td>\n",
       "      <td>9.87</td>\n",
       "      <td>10.0</td>\n",
       "    </tr>\n",
       "    <tr>\n",
       "      <td>1</td>\n",
       "      <td>0</td>\n",
       "      <td>107</td>\n",
       "      <td>1</td>\n",
       "      <td>1</td>\n",
       "      <td>3.7</td>\n",
       "      <td>1</td>\n",
       "      <td>161.6</td>\n",
       "      <td>123</td>\n",
       "      <td>82.0</td>\n",
       "      <td>9.78</td>\n",
       "      <td>13.7</td>\n",
       "    </tr>\n",
       "    <tr>\n",
       "      <td>2</td>\n",
       "      <td>0</td>\n",
       "      <td>137</td>\n",
       "      <td>1</td>\n",
       "      <td>0</td>\n",
       "      <td>0.0</td>\n",
       "      <td>0</td>\n",
       "      <td>243.4</td>\n",
       "      <td>114</td>\n",
       "      <td>52.0</td>\n",
       "      <td>6.06</td>\n",
       "      <td>12.2</td>\n",
       "    </tr>\n",
       "    <tr>\n",
       "      <td>3</td>\n",
       "      <td>0</td>\n",
       "      <td>84</td>\n",
       "      <td>0</td>\n",
       "      <td>0</td>\n",
       "      <td>0.0</td>\n",
       "      <td>2</td>\n",
       "      <td>299.4</td>\n",
       "      <td>71</td>\n",
       "      <td>57.0</td>\n",
       "      <td>3.10</td>\n",
       "      <td>6.6</td>\n",
       "    </tr>\n",
       "    <tr>\n",
       "      <td>4</td>\n",
       "      <td>0</td>\n",
       "      <td>75</td>\n",
       "      <td>0</td>\n",
       "      <td>0</td>\n",
       "      <td>0.0</td>\n",
       "      <td>3</td>\n",
       "      <td>166.7</td>\n",
       "      <td>113</td>\n",
       "      <td>41.0</td>\n",
       "      <td>7.42</td>\n",
       "      <td>10.1</td>\n",
       "    </tr>\n",
       "  </tbody>\n",
       "</table>\n",
       "</div>"
      ],
      "text/plain": [
       "   Churn  AccountWeeks  ContractRenewal  DataPlan  DataUsage  CustServCalls  \\\n",
       "0      0           128                1         1        2.7              1   \n",
       "1      0           107                1         1        3.7              1   \n",
       "2      0           137                1         0        0.0              0   \n",
       "3      0            84                0         0        0.0              2   \n",
       "4      0            75                0         0        0.0              3   \n",
       "\n",
       "   DayMins  DayCalls  MonthlyCharge  OverageFee  RoamMins  \n",
       "0    265.1       110           89.0        9.87      10.0  \n",
       "1    161.6       123           82.0        9.78      13.7  \n",
       "2    243.4       114           52.0        6.06      12.2  \n",
       "3    299.4        71           57.0        3.10       6.6  \n",
       "4    166.7       113           41.0        7.42      10.1  "
      ]
     },
     "execution_count": 3,
     "metadata": {},
     "output_type": "execute_result"
    }
   ],
   "source": [
    "# Read csv\n",
    "data = pd.read_csv(\"churn.csv\")\n",
    "data.head()"
   ]
  },
  {
   "cell_type": "code",
   "execution_count": 6,
   "metadata": {},
   "outputs": [
    {
     "name": "stdout",
     "output_type": "stream",
     "text": [
      "<class 'pandas.core.frame.DataFrame'>\n",
      "RangeIndex: 3333 entries, 0 to 3332\n",
      "Data columns (total 11 columns):\n",
      "Churn              3333 non-null int64\n",
      "AccountWeeks       3333 non-null int64\n",
      "ContractRenewal    3333 non-null int64\n",
      "DataPlan           3333 non-null int64\n",
      "DataUsage          3333 non-null float64\n",
      "CustServCalls      3333 non-null int64\n",
      "DayMins            3333 non-null float64\n",
      "DayCalls           3333 non-null int64\n",
      "MonthlyCharge      3333 non-null float64\n",
      "OverageFee         3333 non-null float64\n",
      "RoamMins           3333 non-null float64\n",
      "dtypes: float64(5), int64(6)\n",
      "memory usage: 286.5 KB\n"
     ]
    }
   ],
   "source": [
    "# Describe our data for each feature and use .info() for get information about our dataset\n",
    "data.info()"
   ]
  },
  {
   "cell_type": "code",
   "execution_count": 7,
   "metadata": {
    "scrolled": false
   },
   "outputs": [
    {
     "data": {
      "text/html": [
       "<div>\n",
       "<style scoped>\n",
       "    .dataframe tbody tr th:only-of-type {\n",
       "        vertical-align: middle;\n",
       "    }\n",
       "\n",
       "    .dataframe tbody tr th {\n",
       "        vertical-align: top;\n",
       "    }\n",
       "\n",
       "    .dataframe thead th {\n",
       "        text-align: right;\n",
       "    }\n",
       "</style>\n",
       "<table border=\"1\" class=\"dataframe\">\n",
       "  <thead>\n",
       "    <tr style=\"text-align: right;\">\n",
       "      <th></th>\n",
       "      <th>Churn</th>\n",
       "      <th>AccountWeeks</th>\n",
       "      <th>ContractRenewal</th>\n",
       "      <th>DataPlan</th>\n",
       "      <th>DataUsage</th>\n",
       "      <th>CustServCalls</th>\n",
       "      <th>DayMins</th>\n",
       "      <th>DayCalls</th>\n",
       "      <th>MonthlyCharge</th>\n",
       "      <th>OverageFee</th>\n",
       "      <th>RoamMins</th>\n",
       "    </tr>\n",
       "  </thead>\n",
       "  <tbody>\n",
       "    <tr>\n",
       "      <td>count</td>\n",
       "      <td>3333.000000</td>\n",
       "      <td>3333.000000</td>\n",
       "      <td>3333.000000</td>\n",
       "      <td>3333.000000</td>\n",
       "      <td>3333.000000</td>\n",
       "      <td>3333.000000</td>\n",
       "      <td>3333.000000</td>\n",
       "      <td>3333.000000</td>\n",
       "      <td>3333.000000</td>\n",
       "      <td>3333.000000</td>\n",
       "      <td>3333.000000</td>\n",
       "    </tr>\n",
       "    <tr>\n",
       "      <td>mean</td>\n",
       "      <td>0.144914</td>\n",
       "      <td>101.064806</td>\n",
       "      <td>0.903090</td>\n",
       "      <td>0.276628</td>\n",
       "      <td>0.816475</td>\n",
       "      <td>1.562856</td>\n",
       "      <td>179.775098</td>\n",
       "      <td>100.435644</td>\n",
       "      <td>56.305161</td>\n",
       "      <td>10.051488</td>\n",
       "      <td>10.237294</td>\n",
       "    </tr>\n",
       "    <tr>\n",
       "      <td>std</td>\n",
       "      <td>0.352067</td>\n",
       "      <td>39.822106</td>\n",
       "      <td>0.295879</td>\n",
       "      <td>0.447398</td>\n",
       "      <td>1.272668</td>\n",
       "      <td>1.315491</td>\n",
       "      <td>54.467389</td>\n",
       "      <td>20.069084</td>\n",
       "      <td>16.426032</td>\n",
       "      <td>2.535712</td>\n",
       "      <td>2.791840</td>\n",
       "    </tr>\n",
       "    <tr>\n",
       "      <td>min</td>\n",
       "      <td>0.000000</td>\n",
       "      <td>1.000000</td>\n",
       "      <td>0.000000</td>\n",
       "      <td>0.000000</td>\n",
       "      <td>0.000000</td>\n",
       "      <td>0.000000</td>\n",
       "      <td>0.000000</td>\n",
       "      <td>0.000000</td>\n",
       "      <td>14.000000</td>\n",
       "      <td>0.000000</td>\n",
       "      <td>0.000000</td>\n",
       "    </tr>\n",
       "    <tr>\n",
       "      <td>25%</td>\n",
       "      <td>0.000000</td>\n",
       "      <td>74.000000</td>\n",
       "      <td>1.000000</td>\n",
       "      <td>0.000000</td>\n",
       "      <td>0.000000</td>\n",
       "      <td>1.000000</td>\n",
       "      <td>143.700000</td>\n",
       "      <td>87.000000</td>\n",
       "      <td>45.000000</td>\n",
       "      <td>8.330000</td>\n",
       "      <td>8.500000</td>\n",
       "    </tr>\n",
       "    <tr>\n",
       "      <td>50%</td>\n",
       "      <td>0.000000</td>\n",
       "      <td>101.000000</td>\n",
       "      <td>1.000000</td>\n",
       "      <td>0.000000</td>\n",
       "      <td>0.000000</td>\n",
       "      <td>1.000000</td>\n",
       "      <td>179.400000</td>\n",
       "      <td>101.000000</td>\n",
       "      <td>53.500000</td>\n",
       "      <td>10.070000</td>\n",
       "      <td>10.300000</td>\n",
       "    </tr>\n",
       "    <tr>\n",
       "      <td>75%</td>\n",
       "      <td>0.000000</td>\n",
       "      <td>127.000000</td>\n",
       "      <td>1.000000</td>\n",
       "      <td>1.000000</td>\n",
       "      <td>1.780000</td>\n",
       "      <td>2.000000</td>\n",
       "      <td>216.400000</td>\n",
       "      <td>114.000000</td>\n",
       "      <td>66.200000</td>\n",
       "      <td>11.770000</td>\n",
       "      <td>12.100000</td>\n",
       "    </tr>\n",
       "    <tr>\n",
       "      <td>max</td>\n",
       "      <td>1.000000</td>\n",
       "      <td>243.000000</td>\n",
       "      <td>1.000000</td>\n",
       "      <td>1.000000</td>\n",
       "      <td>5.400000</td>\n",
       "      <td>9.000000</td>\n",
       "      <td>350.800000</td>\n",
       "      <td>165.000000</td>\n",
       "      <td>111.300000</td>\n",
       "      <td>18.190000</td>\n",
       "      <td>20.000000</td>\n",
       "    </tr>\n",
       "  </tbody>\n",
       "</table>\n",
       "</div>"
      ],
      "text/plain": [
       "             Churn  AccountWeeks  ContractRenewal     DataPlan    DataUsage  \\\n",
       "count  3333.000000   3333.000000      3333.000000  3333.000000  3333.000000   \n",
       "mean      0.144914    101.064806         0.903090     0.276628     0.816475   \n",
       "std       0.352067     39.822106         0.295879     0.447398     1.272668   \n",
       "min       0.000000      1.000000         0.000000     0.000000     0.000000   \n",
       "25%       0.000000     74.000000         1.000000     0.000000     0.000000   \n",
       "50%       0.000000    101.000000         1.000000     0.000000     0.000000   \n",
       "75%       0.000000    127.000000         1.000000     1.000000     1.780000   \n",
       "max       1.000000    243.000000         1.000000     1.000000     5.400000   \n",
       "\n",
       "       CustServCalls      DayMins     DayCalls  MonthlyCharge   OverageFee  \\\n",
       "count    3333.000000  3333.000000  3333.000000    3333.000000  3333.000000   \n",
       "mean        1.562856   179.775098   100.435644      56.305161    10.051488   \n",
       "std         1.315491    54.467389    20.069084      16.426032     2.535712   \n",
       "min         0.000000     0.000000     0.000000      14.000000     0.000000   \n",
       "25%         1.000000   143.700000    87.000000      45.000000     8.330000   \n",
       "50%         1.000000   179.400000   101.000000      53.500000    10.070000   \n",
       "75%         2.000000   216.400000   114.000000      66.200000    11.770000   \n",
       "max         9.000000   350.800000   165.000000     111.300000    18.190000   \n",
       "\n",
       "          RoamMins  \n",
       "count  3333.000000  \n",
       "mean     10.237294  \n",
       "std       2.791840  \n",
       "min       0.000000  \n",
       "25%       8.500000  \n",
       "50%      10.300000  \n",
       "75%      12.100000  \n",
       "max      20.000000  "
      ]
     },
     "execution_count": 7,
     "metadata": {},
     "output_type": "execute_result"
    }
   ],
   "source": [
    "# Analyse missing values\n",
    "data.describe()"
   ]
  },
  {
   "cell_type": "markdown",
   "metadata": {},
   "source": [
    "# Exploratory Data Analysis"
   ]
  },
  {
   "cell_type": "code",
   "execution_count": 32,
   "metadata": {},
   "outputs": [
    {
     "data": {
      "text/html": [
       "<div>\n",
       "<style scoped>\n",
       "    .dataframe tbody tr th:only-of-type {\n",
       "        vertical-align: middle;\n",
       "    }\n",
       "\n",
       "    .dataframe tbody tr th {\n",
       "        vertical-align: top;\n",
       "    }\n",
       "\n",
       "    .dataframe thead th {\n",
       "        text-align: right;\n",
       "    }\n",
       "</style>\n",
       "<table border=\"1\" class=\"dataframe\">\n",
       "  <thead>\n",
       "    <tr style=\"text-align: right;\">\n",
       "      <th></th>\n",
       "      <th>AccountWeeks</th>\n",
       "      <th>ContractRenewal</th>\n",
       "      <th>DataPlan</th>\n",
       "      <th>DataUsage</th>\n",
       "      <th>CustServCalls</th>\n",
       "      <th>DayMins</th>\n",
       "      <th>DayCalls</th>\n",
       "      <th>MonthlyCharge</th>\n",
       "      <th>OverageFee</th>\n",
       "      <th>RoamMins</th>\n",
       "    </tr>\n",
       "  </thead>\n",
       "  <tbody>\n",
       "    <tr>\n",
       "      <td>0</td>\n",
       "      <td>128</td>\n",
       "      <td>1</td>\n",
       "      <td>1</td>\n",
       "      <td>2.70</td>\n",
       "      <td>1</td>\n",
       "      <td>265.1</td>\n",
       "      <td>110</td>\n",
       "      <td>89.0</td>\n",
       "      <td>9.87</td>\n",
       "      <td>10.0</td>\n",
       "    </tr>\n",
       "    <tr>\n",
       "      <td>1</td>\n",
       "      <td>107</td>\n",
       "      <td>1</td>\n",
       "      <td>1</td>\n",
       "      <td>3.70</td>\n",
       "      <td>1</td>\n",
       "      <td>161.6</td>\n",
       "      <td>123</td>\n",
       "      <td>82.0</td>\n",
       "      <td>9.78</td>\n",
       "      <td>13.7</td>\n",
       "    </tr>\n",
       "    <tr>\n",
       "      <td>2</td>\n",
       "      <td>137</td>\n",
       "      <td>1</td>\n",
       "      <td>0</td>\n",
       "      <td>0.00</td>\n",
       "      <td>0</td>\n",
       "      <td>243.4</td>\n",
       "      <td>114</td>\n",
       "      <td>52.0</td>\n",
       "      <td>6.06</td>\n",
       "      <td>12.2</td>\n",
       "    </tr>\n",
       "    <tr>\n",
       "      <td>3</td>\n",
       "      <td>84</td>\n",
       "      <td>0</td>\n",
       "      <td>0</td>\n",
       "      <td>0.00</td>\n",
       "      <td>2</td>\n",
       "      <td>299.4</td>\n",
       "      <td>71</td>\n",
       "      <td>57.0</td>\n",
       "      <td>3.10</td>\n",
       "      <td>6.6</td>\n",
       "    </tr>\n",
       "    <tr>\n",
       "      <td>4</td>\n",
       "      <td>75</td>\n",
       "      <td>0</td>\n",
       "      <td>0</td>\n",
       "      <td>0.00</td>\n",
       "      <td>3</td>\n",
       "      <td>166.7</td>\n",
       "      <td>113</td>\n",
       "      <td>41.0</td>\n",
       "      <td>7.42</td>\n",
       "      <td>10.1</td>\n",
       "    </tr>\n",
       "    <tr>\n",
       "      <td>...</td>\n",
       "      <td>...</td>\n",
       "      <td>...</td>\n",
       "      <td>...</td>\n",
       "      <td>...</td>\n",
       "      <td>...</td>\n",
       "      <td>...</td>\n",
       "      <td>...</td>\n",
       "      <td>...</td>\n",
       "      <td>...</td>\n",
       "      <td>...</td>\n",
       "    </tr>\n",
       "    <tr>\n",
       "      <td>3328</td>\n",
       "      <td>192</td>\n",
       "      <td>1</td>\n",
       "      <td>1</td>\n",
       "      <td>2.67</td>\n",
       "      <td>2</td>\n",
       "      <td>156.2</td>\n",
       "      <td>77</td>\n",
       "      <td>71.7</td>\n",
       "      <td>10.78</td>\n",
       "      <td>9.9</td>\n",
       "    </tr>\n",
       "    <tr>\n",
       "      <td>3329</td>\n",
       "      <td>68</td>\n",
       "      <td>1</td>\n",
       "      <td>0</td>\n",
       "      <td>0.34</td>\n",
       "      <td>3</td>\n",
       "      <td>231.1</td>\n",
       "      <td>57</td>\n",
       "      <td>56.4</td>\n",
       "      <td>7.67</td>\n",
       "      <td>9.6</td>\n",
       "    </tr>\n",
       "    <tr>\n",
       "      <td>3330</td>\n",
       "      <td>28</td>\n",
       "      <td>1</td>\n",
       "      <td>0</td>\n",
       "      <td>0.00</td>\n",
       "      <td>2</td>\n",
       "      <td>180.8</td>\n",
       "      <td>109</td>\n",
       "      <td>56.0</td>\n",
       "      <td>14.44</td>\n",
       "      <td>14.1</td>\n",
       "    </tr>\n",
       "    <tr>\n",
       "      <td>3331</td>\n",
       "      <td>184</td>\n",
       "      <td>0</td>\n",
       "      <td>0</td>\n",
       "      <td>0.00</td>\n",
       "      <td>2</td>\n",
       "      <td>213.8</td>\n",
       "      <td>105</td>\n",
       "      <td>50.0</td>\n",
       "      <td>7.98</td>\n",
       "      <td>5.0</td>\n",
       "    </tr>\n",
       "    <tr>\n",
       "      <td>3332</td>\n",
       "      <td>74</td>\n",
       "      <td>1</td>\n",
       "      <td>1</td>\n",
       "      <td>3.70</td>\n",
       "      <td>0</td>\n",
       "      <td>234.4</td>\n",
       "      <td>113</td>\n",
       "      <td>100.0</td>\n",
       "      <td>13.30</td>\n",
       "      <td>13.7</td>\n",
       "    </tr>\n",
       "  </tbody>\n",
       "</table>\n",
       "<p>3333 rows × 10 columns</p>\n",
       "</div>"
      ],
      "text/plain": [
       "      AccountWeeks  ContractRenewal  DataPlan  DataUsage  CustServCalls  \\\n",
       "0              128                1         1       2.70              1   \n",
       "1              107                1         1       3.70              1   \n",
       "2              137                1         0       0.00              0   \n",
       "3               84                0         0       0.00              2   \n",
       "4               75                0         0       0.00              3   \n",
       "...            ...              ...       ...        ...            ...   \n",
       "3328           192                1         1       2.67              2   \n",
       "3329            68                1         0       0.34              3   \n",
       "3330            28                1         0       0.00              2   \n",
       "3331           184                0         0       0.00              2   \n",
       "3332            74                1         1       3.70              0   \n",
       "\n",
       "      DayMins  DayCalls  MonthlyCharge  OverageFee  RoamMins  \n",
       "0       265.1       110           89.0        9.87      10.0  \n",
       "1       161.6       123           82.0        9.78      13.7  \n",
       "2       243.4       114           52.0        6.06      12.2  \n",
       "3       299.4        71           57.0        3.10       6.6  \n",
       "4       166.7       113           41.0        7.42      10.1  \n",
       "...       ...       ...            ...         ...       ...  \n",
       "3328    156.2        77           71.7       10.78       9.9  \n",
       "3329    231.1        57           56.4        7.67       9.6  \n",
       "3330    180.8       109           56.0       14.44      14.1  \n",
       "3331    213.8       105           50.0        7.98       5.0  \n",
       "3332    234.4       113          100.0       13.30      13.7  \n",
       "\n",
       "[3333 rows x 10 columns]"
      ]
     },
     "execution_count": 32,
     "metadata": {},
     "output_type": "execute_result"
    }
   ],
   "source": [
    "# data features without the labels\n",
    "data_feat = data.drop('Churn', axis=1)\n",
    "data_feat"
   ]
  },
  {
   "cell_type": "code",
   "execution_count": 33,
   "metadata": {},
   "outputs": [
    {
     "data": {
      "text/html": [
       "<div>\n",
       "<style scoped>\n",
       "    .dataframe tbody tr th:only-of-type {\n",
       "        vertical-align: middle;\n",
       "    }\n",
       "\n",
       "    .dataframe tbody tr th {\n",
       "        vertical-align: top;\n",
       "    }\n",
       "\n",
       "    .dataframe thead th {\n",
       "        text-align: right;\n",
       "    }\n",
       "</style>\n",
       "<table border=\"1\" class=\"dataframe\">\n",
       "  <thead>\n",
       "    <tr style=\"text-align: right;\">\n",
       "      <th></th>\n",
       "      <th>AccountWeeks</th>\n",
       "      <th>ContractRenewal</th>\n",
       "      <th>DataPlan</th>\n",
       "      <th>DataUsage</th>\n",
       "      <th>CustServCalls</th>\n",
       "      <th>DayMins</th>\n",
       "      <th>DayCalls</th>\n",
       "      <th>MonthlyCharge</th>\n",
       "      <th>OverageFee</th>\n",
       "      <th>RoamMins</th>\n",
       "    </tr>\n",
       "  </thead>\n",
       "  <tbody>\n",
       "    <tr>\n",
       "      <td>AccountWeeks</td>\n",
       "      <td>1.000000</td>\n",
       "      <td>-0.024735</td>\n",
       "      <td>0.002918</td>\n",
       "      <td>0.014391</td>\n",
       "      <td>-0.003796</td>\n",
       "      <td>0.006216</td>\n",
       "      <td>0.038470</td>\n",
       "      <td>0.012581</td>\n",
       "      <td>-0.006749</td>\n",
       "      <td>0.009514</td>\n",
       "    </tr>\n",
       "    <tr>\n",
       "      <td>ContractRenewal</td>\n",
       "      <td>-0.024735</td>\n",
       "      <td>1.000000</td>\n",
       "      <td>-0.006006</td>\n",
       "      <td>-0.019223</td>\n",
       "      <td>0.024522</td>\n",
       "      <td>-0.049396</td>\n",
       "      <td>-0.003755</td>\n",
       "      <td>-0.047291</td>\n",
       "      <td>-0.019105</td>\n",
       "      <td>-0.045871</td>\n",
       "    </tr>\n",
       "    <tr>\n",
       "      <td>DataPlan</td>\n",
       "      <td>0.002918</td>\n",
       "      <td>-0.006006</td>\n",
       "      <td>1.000000</td>\n",
       "      <td>0.945982</td>\n",
       "      <td>-0.017824</td>\n",
       "      <td>-0.001684</td>\n",
       "      <td>-0.011086</td>\n",
       "      <td>0.737490</td>\n",
       "      <td>0.021526</td>\n",
       "      <td>-0.001318</td>\n",
       "    </tr>\n",
       "    <tr>\n",
       "      <td>DataUsage</td>\n",
       "      <td>0.014391</td>\n",
       "      <td>-0.019223</td>\n",
       "      <td>0.945982</td>\n",
       "      <td>1.000000</td>\n",
       "      <td>-0.021723</td>\n",
       "      <td>0.003176</td>\n",
       "      <td>-0.007962</td>\n",
       "      <td>0.781660</td>\n",
       "      <td>0.019637</td>\n",
       "      <td>0.162746</td>\n",
       "    </tr>\n",
       "    <tr>\n",
       "      <td>CustServCalls</td>\n",
       "      <td>-0.003796</td>\n",
       "      <td>0.024522</td>\n",
       "      <td>-0.017824</td>\n",
       "      <td>-0.021723</td>\n",
       "      <td>1.000000</td>\n",
       "      <td>-0.013423</td>\n",
       "      <td>-0.018942</td>\n",
       "      <td>-0.028017</td>\n",
       "      <td>-0.012964</td>\n",
       "      <td>-0.009640</td>\n",
       "    </tr>\n",
       "    <tr>\n",
       "      <td>DayMins</td>\n",
       "      <td>0.006216</td>\n",
       "      <td>-0.049396</td>\n",
       "      <td>-0.001684</td>\n",
       "      <td>0.003176</td>\n",
       "      <td>-0.013423</td>\n",
       "      <td>1.000000</td>\n",
       "      <td>0.006750</td>\n",
       "      <td>0.567968</td>\n",
       "      <td>0.007038</td>\n",
       "      <td>-0.010155</td>\n",
       "    </tr>\n",
       "    <tr>\n",
       "      <td>DayCalls</td>\n",
       "      <td>0.038470</td>\n",
       "      <td>-0.003755</td>\n",
       "      <td>-0.011086</td>\n",
       "      <td>-0.007962</td>\n",
       "      <td>-0.018942</td>\n",
       "      <td>0.006750</td>\n",
       "      <td>1.000000</td>\n",
       "      <td>-0.007963</td>\n",
       "      <td>-0.021449</td>\n",
       "      <td>0.021565</td>\n",
       "    </tr>\n",
       "    <tr>\n",
       "      <td>MonthlyCharge</td>\n",
       "      <td>0.012581</td>\n",
       "      <td>-0.047291</td>\n",
       "      <td>0.737490</td>\n",
       "      <td>0.781660</td>\n",
       "      <td>-0.028017</td>\n",
       "      <td>0.567968</td>\n",
       "      <td>-0.007963</td>\n",
       "      <td>1.000000</td>\n",
       "      <td>0.281766</td>\n",
       "      <td>0.117433</td>\n",
       "    </tr>\n",
       "    <tr>\n",
       "      <td>OverageFee</td>\n",
       "      <td>-0.006749</td>\n",
       "      <td>-0.019105</td>\n",
       "      <td>0.021526</td>\n",
       "      <td>0.019637</td>\n",
       "      <td>-0.012964</td>\n",
       "      <td>0.007038</td>\n",
       "      <td>-0.021449</td>\n",
       "      <td>0.281766</td>\n",
       "      <td>1.000000</td>\n",
       "      <td>-0.011023</td>\n",
       "    </tr>\n",
       "    <tr>\n",
       "      <td>RoamMins</td>\n",
       "      <td>0.009514</td>\n",
       "      <td>-0.045871</td>\n",
       "      <td>-0.001318</td>\n",
       "      <td>0.162746</td>\n",
       "      <td>-0.009640</td>\n",
       "      <td>-0.010155</td>\n",
       "      <td>0.021565</td>\n",
       "      <td>0.117433</td>\n",
       "      <td>-0.011023</td>\n",
       "      <td>1.000000</td>\n",
       "    </tr>\n",
       "  </tbody>\n",
       "</table>\n",
       "</div>"
      ],
      "text/plain": [
       "                 AccountWeeks  ContractRenewal  DataPlan  DataUsage  \\\n",
       "AccountWeeks         1.000000        -0.024735  0.002918   0.014391   \n",
       "ContractRenewal     -0.024735         1.000000 -0.006006  -0.019223   \n",
       "DataPlan             0.002918        -0.006006  1.000000   0.945982   \n",
       "DataUsage            0.014391        -0.019223  0.945982   1.000000   \n",
       "CustServCalls       -0.003796         0.024522 -0.017824  -0.021723   \n",
       "DayMins              0.006216        -0.049396 -0.001684   0.003176   \n",
       "DayCalls             0.038470        -0.003755 -0.011086  -0.007962   \n",
       "MonthlyCharge        0.012581        -0.047291  0.737490   0.781660   \n",
       "OverageFee          -0.006749        -0.019105  0.021526   0.019637   \n",
       "RoamMins             0.009514        -0.045871 -0.001318   0.162746   \n",
       "\n",
       "                 CustServCalls   DayMins  DayCalls  MonthlyCharge  OverageFee  \\\n",
       "AccountWeeks         -0.003796  0.006216  0.038470       0.012581   -0.006749   \n",
       "ContractRenewal       0.024522 -0.049396 -0.003755      -0.047291   -0.019105   \n",
       "DataPlan             -0.017824 -0.001684 -0.011086       0.737490    0.021526   \n",
       "DataUsage            -0.021723  0.003176 -0.007962       0.781660    0.019637   \n",
       "CustServCalls         1.000000 -0.013423 -0.018942      -0.028017   -0.012964   \n",
       "DayMins              -0.013423  1.000000  0.006750       0.567968    0.007038   \n",
       "DayCalls             -0.018942  0.006750  1.000000      -0.007963   -0.021449   \n",
       "MonthlyCharge        -0.028017  0.567968 -0.007963       1.000000    0.281766   \n",
       "OverageFee           -0.012964  0.007038 -0.021449       0.281766    1.000000   \n",
       "RoamMins             -0.009640 -0.010155  0.021565       0.117433   -0.011023   \n",
       "\n",
       "                 RoamMins  \n",
       "AccountWeeks     0.009514  \n",
       "ContractRenewal -0.045871  \n",
       "DataPlan        -0.001318  \n",
       "DataUsage        0.162746  \n",
       "CustServCalls   -0.009640  \n",
       "DayMins         -0.010155  \n",
       "DayCalls         0.021565  \n",
       "MonthlyCharge    0.117433  \n",
       "OverageFee      -0.011023  \n",
       "RoamMins         1.000000  "
      ]
     },
     "execution_count": 33,
     "metadata": {},
     "output_type": "execute_result"
    }
   ],
   "source": [
    "# check for colinearity\n",
    "corr = data_feat.corr()\n",
    "corr"
   ]
  },
  {
   "cell_type": "code",
   "execution_count": 34,
   "metadata": {},
   "outputs": [
    {
     "data": {
      "image/png": "[encoded data removed]",
      "text/plain": [
       "<Figure size 1008x1008 with 2 Axes>"
      ]
     },
     "metadata": {
      "needs_background": "light"
     },
     "output_type": "display_data"
    }
   ],
   "source": [
    "# Correlation of the features\n",
    "\n",
    "plt.figure(figsize=(14, 14))\n",
    "ax = sns.heatmap(\n",
    "    corr, \n",
    "    vmin=-1, vmax=1, center=0,\n",
    "    cmap=sns.diverging_palette(20, 220, n=200),\n",
    "    square=True, annot = True\n",
    ")\n",
    "ax.set_xticklabels(\n",
    "    ax.get_xticklabels(),\n",
    "    rotation=45,\n",
    "    horizontalalignment='right'\n",
    ")\n",
    "ax.set_ylim(len(corr)+0.5, -0.5);"
   ]
  },
  {
   "cell_type": "markdown",
   "metadata": {},
   "source": [
    "##### `DataPlan`, `DataUsage` and `Monthlycharge` are highly correlated"
   ]
  },
  {
   "cell_type": "code",
   "execution_count": 26,
   "metadata": {},
   "outputs": [
    {
     "data": {
      "text/plain": [
       "<matplotlib.axes._subplots.AxesSubplot at 0xb33d910>"
      ]
     },
     "execution_count": 26,
     "metadata": {},
     "output_type": "execute_result"
    },
    {
     "data": {
      "image/png": "[encoded data removed]",
      "text/plain": [
       "<Figure size 432x288 with 1 Axes>"
      ]
     },
     "metadata": {
      "needs_background": "light"
     },
     "output_type": "display_data"
    }
   ],
   "source": [
    "# Our label Distribution (countplot)\n",
    "sns.countplot(data['Churn'])"
   ]
  },
  {
   "cell_type": "code",
   "execution_count": 27,
   "metadata": {},
   "outputs": [
    {
     "data": {
      "text/plain": [
       "Index(['Churn', 'AccountWeeks', 'ContractRenewal', 'DataPlan', 'DataUsage',\n",
       "       'CustServCalls', 'DayMins', 'DayCalls', 'MonthlyCharge', 'OverageFee',\n",
       "       'RoamMins'],\n",
       "      dtype='object')"
      ]
     },
     "execution_count": 27,
     "metadata": {},
     "output_type": "execute_result"
    }
   ],
   "source": [
    "data.columns"
   ]
  },
  {
   "cell_type": "code",
   "execution_count": 30,
   "metadata": {},
   "outputs": [
    {
     "data": {
      "text/plain": [
       "<matplotlib.axes._subplots.AxesSubplot at 0xb51d290>"
      ]
     },
     "execution_count": 30,
     "metadata": {},
     "output_type": "execute_result"
    },
    {
     "data": {
      "image/png": "[encoded data removed]",
      "text/plain": [
       "<Figure size 432x288 with 1 Axes>"
      ]
     },
     "metadata": {
      "needs_background": "light"
     },
     "output_type": "display_data"
    }
   ],
   "source": [
    "# Example EDA\n",
    "sns.distplot(data['AccountWeeks'])"
   ]
  },
  {
   "cell_type": "markdown",
   "metadata": {},
   "source": [
    "# Preprocessing\n",
    "\n",
    "- Are there any duplicated values?\n",
    "- Do we need to do feature scaling?\n",
    "- Do we need to generate new features?\n",
    "- Split Train and Test dataset. (0.7/0.3)"
   ]
  },
  {
   "cell_type": "code",
   "execution_count": 35,
   "metadata": {},
   "outputs": [
    {
     "data": {
      "text/plain": [
       "3333"
      ]
     },
     "execution_count": 35,
     "metadata": {},
     "output_type": "execute_result"
    }
   ],
   "source": [
    "# total length of the observations \n",
    "len(data)"
   ]
  },
  {
   "cell_type": "code",
   "execution_count": 39,
   "metadata": {},
   "outputs": [
    {
     "data": {
      "text/plain": [
       "212"
      ]
     },
     "execution_count": 39,
     "metadata": {},
     "output_type": "execute_result"
    }
   ],
   "source": [
    "len(data['AccountWeeks'].unique())"
   ]
  },
  {
   "cell_type": "code",
   "execution_count": 45,
   "metadata": {},
   "outputs": [
    {
     "data": {
      "text/plain": [
       "0    2850\n",
       "1     483\n",
       "Name: Churn, dtype: int64"
      ]
     },
     "execution_count": 45,
     "metadata": {},
     "output_type": "execute_result"
    }
   ],
   "source": [
    "# counts the proportion of the label classes\n",
    "data['Churn'].value_counts()"
   ]
  },
  {
   "cell_type": "code",
   "execution_count": 55,
   "metadata": {},
   "outputs": [
    {
     "data": {
      "text/plain": [
       "AccountWeeks        212\n",
       "ContractRenewal       2\n",
       "DataPlan              2\n",
       "DataUsage           174\n",
       "CustServCalls        10\n",
       "DayMins            1667\n",
       "DayCalls            119\n",
       "MonthlyCharge       627\n",
       "OverageFee         1024\n",
       "RoamMins            162\n",
       "dtype: int64"
      ]
     },
     "execution_count": 55,
     "metadata": {},
     "output_type": "execute_result"
    }
   ],
   "source": [
    "data_feat.nunique()\n",
    "# this shows the presence of duplicate values in almost all the features"
   ]
  },
  {
   "cell_type": "code",
   "execution_count": 56,
   "metadata": {},
   "outputs": [
    {
     "data": {
      "text/plain": [
       "True     3121\n",
       "False     212\n",
       "Name: AccountWeeks, dtype: int64"
      ]
     },
     "execution_count": 56,
     "metadata": {},
     "output_type": "execute_result"
    }
   ],
   "source": [
    "data_feat['AccountWeeks'].duplicated().value_counts()\n",
    "# this feature has only `212` unique values and `3121` duplicate values"
   ]
  },
  {
   "cell_type": "code",
   "execution_count": 57,
   "metadata": {},
   "outputs": [
    {
     "data": {
      "text/html": [
       "<div>\n",
       "<style scoped>\n",
       "    .dataframe tbody tr th:only-of-type {\n",
       "        vertical-align: middle;\n",
       "    }\n",
       "\n",
       "    .dataframe tbody tr th {\n",
       "        vertical-align: top;\n",
       "    }\n",
       "\n",
       "    .dataframe thead th {\n",
       "        text-align: right;\n",
       "    }\n",
       "</style>\n",
       "<table border=\"1\" class=\"dataframe\">\n",
       "  <thead>\n",
       "    <tr style=\"text-align: right;\">\n",
       "      <th></th>\n",
       "      <th>AccountWeeks</th>\n",
       "      <th>ContractRenewal</th>\n",
       "      <th>DataPlan</th>\n",
       "      <th>DataUsage</th>\n",
       "      <th>CustServCalls</th>\n",
       "      <th>DayMins</th>\n",
       "      <th>DayCalls</th>\n",
       "      <th>MonthlyCharge</th>\n",
       "      <th>OverageFee</th>\n",
       "      <th>RoamMins</th>\n",
       "    </tr>\n",
       "  </thead>\n",
       "  <tbody>\n",
       "    <tr>\n",
       "      <td>0</td>\n",
       "      <td>128</td>\n",
       "      <td>1</td>\n",
       "      <td>1</td>\n",
       "      <td>2.70</td>\n",
       "      <td>1</td>\n",
       "      <td>265.1</td>\n",
       "      <td>110</td>\n",
       "      <td>89.0</td>\n",
       "      <td>9.87</td>\n",
       "      <td>10.0</td>\n",
       "    </tr>\n",
       "    <tr>\n",
       "      <td>1</td>\n",
       "      <td>107</td>\n",
       "      <td>1</td>\n",
       "      <td>1</td>\n",
       "      <td>3.70</td>\n",
       "      <td>1</td>\n",
       "      <td>161.6</td>\n",
       "      <td>123</td>\n",
       "      <td>82.0</td>\n",
       "      <td>9.78</td>\n",
       "      <td>13.7</td>\n",
       "    </tr>\n",
       "    <tr>\n",
       "      <td>2</td>\n",
       "      <td>137</td>\n",
       "      <td>1</td>\n",
       "      <td>0</td>\n",
       "      <td>0.00</td>\n",
       "      <td>0</td>\n",
       "      <td>243.4</td>\n",
       "      <td>114</td>\n",
       "      <td>52.0</td>\n",
       "      <td>6.06</td>\n",
       "      <td>12.2</td>\n",
       "    </tr>\n",
       "    <tr>\n",
       "      <td>3</td>\n",
       "      <td>84</td>\n",
       "      <td>0</td>\n",
       "      <td>0</td>\n",
       "      <td>0.00</td>\n",
       "      <td>2</td>\n",
       "      <td>299.4</td>\n",
       "      <td>71</td>\n",
       "      <td>57.0</td>\n",
       "      <td>3.10</td>\n",
       "      <td>6.6</td>\n",
       "    </tr>\n",
       "    <tr>\n",
       "      <td>4</td>\n",
       "      <td>75</td>\n",
       "      <td>0</td>\n",
       "      <td>0</td>\n",
       "      <td>0.00</td>\n",
       "      <td>3</td>\n",
       "      <td>166.7</td>\n",
       "      <td>113</td>\n",
       "      <td>41.0</td>\n",
       "      <td>7.42</td>\n",
       "      <td>10.1</td>\n",
       "    </tr>\n",
       "    <tr>\n",
       "      <td>...</td>\n",
       "      <td>...</td>\n",
       "      <td>...</td>\n",
       "      <td>...</td>\n",
       "      <td>...</td>\n",
       "      <td>...</td>\n",
       "      <td>...</td>\n",
       "      <td>...</td>\n",
       "      <td>...</td>\n",
       "      <td>...</td>\n",
       "      <td>...</td>\n",
       "    </tr>\n",
       "    <tr>\n",
       "      <td>3328</td>\n",
       "      <td>192</td>\n",
       "      <td>1</td>\n",
       "      <td>1</td>\n",
       "      <td>2.67</td>\n",
       "      <td>2</td>\n",
       "      <td>156.2</td>\n",
       "      <td>77</td>\n",
       "      <td>71.7</td>\n",
       "      <td>10.78</td>\n",
       "      <td>9.9</td>\n",
       "    </tr>\n",
       "    <tr>\n",
       "      <td>3329</td>\n",
       "      <td>68</td>\n",
       "      <td>1</td>\n",
       "      <td>0</td>\n",
       "      <td>0.34</td>\n",
       "      <td>3</td>\n",
       "      <td>231.1</td>\n",
       "      <td>57</td>\n",
       "      <td>56.4</td>\n",
       "      <td>7.67</td>\n",
       "      <td>9.6</td>\n",
       "    </tr>\n",
       "    <tr>\n",
       "      <td>3330</td>\n",
       "      <td>28</td>\n",
       "      <td>1</td>\n",
       "      <td>0</td>\n",
       "      <td>0.00</td>\n",
       "      <td>2</td>\n",
       "      <td>180.8</td>\n",
       "      <td>109</td>\n",
       "      <td>56.0</td>\n",
       "      <td>14.44</td>\n",
       "      <td>14.1</td>\n",
       "    </tr>\n",
       "    <tr>\n",
       "      <td>3331</td>\n",
       "      <td>184</td>\n",
       "      <td>0</td>\n",
       "      <td>0</td>\n",
       "      <td>0.00</td>\n",
       "      <td>2</td>\n",
       "      <td>213.8</td>\n",
       "      <td>105</td>\n",
       "      <td>50.0</td>\n",
       "      <td>7.98</td>\n",
       "      <td>5.0</td>\n",
       "    </tr>\n",
       "    <tr>\n",
       "      <td>3332</td>\n",
       "      <td>74</td>\n",
       "      <td>1</td>\n",
       "      <td>1</td>\n",
       "      <td>3.70</td>\n",
       "      <td>0</td>\n",
       "      <td>234.4</td>\n",
       "      <td>113</td>\n",
       "      <td>100.0</td>\n",
       "      <td>13.30</td>\n",
       "      <td>13.7</td>\n",
       "    </tr>\n",
       "  </tbody>\n",
       "</table>\n",
       "<p>3333 rows × 10 columns</p>\n",
       "</div>"
      ],
      "text/plain": [
       "      AccountWeeks  ContractRenewal  DataPlan  DataUsage  CustServCalls  \\\n",
       "0              128                1         1       2.70              1   \n",
       "1              107                1         1       3.70              1   \n",
       "2              137                1         0       0.00              0   \n",
       "3               84                0         0       0.00              2   \n",
       "4               75                0         0       0.00              3   \n",
       "...            ...              ...       ...        ...            ...   \n",
       "3328           192                1         1       2.67              2   \n",
       "3329            68                1         0       0.34              3   \n",
       "3330            28                1         0       0.00              2   \n",
       "3331           184                0         0       0.00              2   \n",
       "3332            74                1         1       3.70              0   \n",
       "\n",
       "      DayMins  DayCalls  MonthlyCharge  OverageFee  RoamMins  \n",
       "0       265.1       110           89.0        9.87      10.0  \n",
       "1       161.6       123           82.0        9.78      13.7  \n",
       "2       243.4       114           52.0        6.06      12.2  \n",
       "3       299.4        71           57.0        3.10       6.6  \n",
       "4       166.7       113           41.0        7.42      10.1  \n",
       "...       ...       ...            ...         ...       ...  \n",
       "3328    156.2        77           71.7       10.78       9.9  \n",
       "3329    231.1        57           56.4        7.67       9.6  \n",
       "3330    180.8       109           56.0       14.44      14.1  \n",
       "3331    213.8       105           50.0        7.98       5.0  \n",
       "3332    234.4       113          100.0       13.30      13.7  \n",
       "\n",
       "[3333 rows x 10 columns]"
      ]
     },
     "execution_count": 57,
     "metadata": {},
     "output_type": "execute_result"
    }
   ],
   "source": [
    "# there is a need for feature scaling since the features have different values scales \n",
    "# and this will affect the model performance\n",
    "data_feat"
   ]
  },
  {
   "cell_type": "markdown",
   "metadata": {},
   "source": [
    "The `colinearity` in the feature matrix will demand getting new features and thus remove the feature that are highly correlated with each other, such features are `DataPlan`, `dataUsage` and `monthlyCharge`. i will be using ColumnTransformer, Pipeline, PolynomialFeatures, truncatedSVD, and standardscaler to tranform the data by generating new features."
   ]
  },
  {
   "cell_type": "code",
   "execution_count": 59,
   "metadata": {},
   "outputs": [],
   "source": [
    "# importing  the necessary modules\n",
    "from sklearn.preprocessing import PolynomialFeatures\n",
    "from sklearn.decomposition import TruncatedSVD\n",
    "from sklearn.pipeline import Pipeline\n",
    "from sklearn.preprocessing import StandardScaler\n",
    "from sklearn.compose import ColumnTransformer"
   ]
  },
  {
   "cell_type": "code",
   "execution_count": 64,
   "metadata": {},
   "outputs": [],
   "source": [
    "col_features = list(data_feat.columns)\n",
    "\n",
    "features = ColumnTransformer([\n",
    "    ('poly', PolynomialFeatures(), col_features)\n",
    "])\n",
    "\n",
    "pipe = Pipeline([\n",
    "    ('features', features),\n",
    "    ('reduction', TruncatedSVD(n_components=30)),\n",
    "    ('scale', StandardScaler())\n",
    "])"
   ]
  },
  {
   "cell_type": "code",
   "execution_count": 66,
   "metadata": {},
   "outputs": [
    {
     "data": {
      "text/plain": [
       "array([[ 1.99599956, -0.56868121,  0.86413239, ..., -0.01637977,\n",
       "        -0.48497794, -1.70916021],\n",
       "       [-0.16931749,  0.5005866 , -1.08076599, ..., -0.08632831,\n",
       "         0.26908489,  1.25785988],\n",
       "       [ 1.4446477 ,  0.03358262,  0.69977497, ..., -0.27722901,\n",
       "         1.42341595, -0.39245701],\n",
       "       ...,\n",
       "       [-0.48014559, -1.03691402, -1.22802925, ..., -0.09490117,\n",
       "         0.1217624 ,  0.88551099],\n",
       "       [ 1.13617658,  1.57093565,  1.62204251, ..., -3.37055019,\n",
       "        -1.81004528, -1.47011439],\n",
       "       [ 0.95667567, -1.16917346, -0.63313616, ...,  0.30974826,\n",
       "        -1.1018132 , -0.33199417]])"
      ]
     },
     "execution_count": 66,
     "metadata": {},
     "output_type": "execute_result"
    }
   ],
   "source": [
    "X = pipe.fit_transform(data_feat)\n",
    "X"
   ]
  },
  {
   "cell_type": "code",
   "execution_count": 69,
   "metadata": {},
   "outputs": [
    {
     "data": {
      "text/plain": [
       "array([[0],\n",
       "       [0],\n",
       "       [0],\n",
       "       ...,\n",
       "       [0],\n",
       "       [0],\n",
       "       [0]], dtype=int64)"
      ]
     },
     "execution_count": 69,
     "metadata": {},
     "output_type": "execute_result"
    }
   ],
   "source": [
    "y = data[['Churn']].values\n",
    "y"
   ]
  },
  {
   "cell_type": "code",
   "execution_count": 75,
   "metadata": {},
   "outputs": [],
   "source": [
    "# now performing a train_test split on the features and the label\n",
    "from sklearn.model_selection import train_test_split, cross_validate"
   ]
  },
  {
   "cell_type": "code",
   "execution_count": 76,
   "metadata": {},
   "outputs": [],
   "source": [
    "X_train, X_test, y_train, y_test = train_test_split(X, y, test_size=0.3, random_state=42)"
   ]
  },
  {
   "cell_type": "markdown",
   "metadata": {},
   "source": [
    "# ML Application\n",
    "\n",
    "- Define models.\n",
    "- Fit models.\n",
    "- Evaluate models for both train and test dataset.\n",
    "- Generate Confusion Matrix and scores of Accuracy, Recall, Precision and F1-Score.\n",
    "- Analyse occurrence of overfitting and underfitting. If there is any of them, try to overcome it within a different section."
   ]
  },
  {
   "cell_type": "code",
   "execution_count": 73,
   "metadata": {},
   "outputs": [],
   "source": [
    "# models importation\n",
    "\n",
    "from sklearn.linear_model import LogisticRegression\n",
    "from sklearn.tree import DecisionTreeClassifier\n",
    "from sklearn.ensemble import RandomForestClassifier"
   ]
  },
  {
   "cell_type": "code",
   "execution_count": 74,
   "metadata": {},
   "outputs": [],
   "source": [
    "# metric evaluation importation\n",
    "\n",
    "from sklearn.metrics import classification_report\n",
    "from sklearn.metrics import f1_score, accuracy_score, recall_score, precision_score\n",
    "from sklearn.metrics import confusion_matrix"
   ]
  },
  {
   "cell_type": "code",
   "execution_count": 80,
   "metadata": {},
   "outputs": [],
   "source": [
    "# models definition\n",
    "\n",
    "l_model = LogisticRegression(solver='lbfgs')\n",
    "d_model = DecisionTreeClassifier(max_depth=3, min_samples_split=6)\n",
    "\n",
    "# import the following Randomforestclassifier will help the imbalanced dataset class we have\n",
    "# later on in the project, i will try using the GradientboostClassifier\n",
    "rf_model = RandomForestClassifier(n_estimators=20, random_state=0)"
   ]
  },
  {
   "cell_type": "code",
   "execution_count": 83,
   "metadata": {},
   "outputs": [
    {
     "name": "stderr",
     "output_type": "stream",
     "text": [
      "C:\\Users\\user\\Anaconda3\\lib\\site-packages\\sklearn\\utils\\validation.py:724: DataConversionWarning: A column-vector y was passed when a 1d array was expected. Please change the shape of y to (n_samples, ), for example using ravel().\n",
      "  y = column_or_1d(y, warn=True)\n"
     ]
    },
    {
     "data": {
      "text/plain": [
       "LogisticRegression(C=1.0, class_weight=None, dual=False, fit_intercept=True,\n",
       "                   intercept_scaling=1, l1_ratio=None, max_iter=100,\n",
       "                   multi_class='warn', n_jobs=None, penalty='l2',\n",
       "                   random_state=None, solver='lbfgs', tol=0.0001, verbose=0,\n",
       "                   warm_start=False)"
      ]
     },
     "execution_count": 83,
     "metadata": {},
     "output_type": "execute_result"
    }
   ],
   "source": [
    "# fitting the linear model\n",
    "\n",
    "l_model.fit(X_train, y_train)"
   ]
  },
  {
   "cell_type": "code",
   "execution_count": 84,
   "metadata": {},
   "outputs": [
    {
     "data": {
      "text/plain": [
       "DecisionTreeClassifier(class_weight=None, criterion='gini', max_depth=3,\n",
       "                       max_features=None, max_leaf_nodes=None,\n",
       "                       min_impurity_decrease=0.0, min_impurity_split=None,\n",
       "                       min_samples_leaf=1, min_samples_split=6,\n",
       "                       min_weight_fraction_leaf=0.0, presort=False,\n",
       "                       random_state=None, splitter='best')"
      ]
     },
     "execution_count": 84,
     "metadata": {},
     "output_type": "execute_result"
    }
   ],
   "source": [
    "# fitting the decisionTreeClassifier\n",
    "\n",
    "d_model.fit(X_train, y_train)"
   ]
  },
  {
   "cell_type": "code",
   "execution_count": 85,
   "metadata": {},
   "outputs": [
    {
     "name": "stderr",
     "output_type": "stream",
     "text": [
      "C:\\Users\\user\\Anaconda3\\lib\\site-packages\\ipykernel_launcher.py:3: DataConversionWarning: A column-vector y was passed when a 1d array was expected. Please change the shape of y to (n_samples,), for example using ravel().\n",
      "  This is separate from the ipykernel package so we can avoid doing imports until\n"
     ]
    },
    {
     "data": {
      "text/plain": [
       "RandomForestClassifier(bootstrap=True, class_weight=None, criterion='gini',\n",
       "                       max_depth=None, max_features='auto', max_leaf_nodes=None,\n",
       "                       min_impurity_decrease=0.0, min_impurity_split=None,\n",
       "                       min_samples_leaf=1, min_samples_split=2,\n",
       "                       min_weight_fraction_leaf=0.0, n_estimators=20,\n",
       "                       n_jobs=None, oob_score=False, random_state=0, verbose=0,\n",
       "                       warm_start=False)"
      ]
     },
     "execution_count": 85,
     "metadata": {},
     "output_type": "execute_result"
    }
   ],
   "source": [
    "# fitting the RndomforestClassifierabs\n",
    "\n",
    "rf_model.fit(X_train, y_train)"
   ]
  },
  {
   "cell_type": "code",
   "execution_count": 86,
   "metadata": {},
   "outputs": [
    {
     "name": "stdout",
     "output_type": "stream",
     "text": [
      "0.8859837119588513\n",
      "0.894\n"
     ]
    }
   ],
   "source": [
    "# evaluating the linear model\n",
    "\n",
    "print(l_model.score(X_train, y_train))\n",
    "print(l_model.score(X_test, y_test))"
   ]
  },
  {
   "cell_type": "code",
   "execution_count": 87,
   "metadata": {},
   "outputs": [
    {
     "name": "stdout",
     "output_type": "stream",
     "text": [
      "0.8838405486498071\n",
      "0.87\n"
     ]
    }
   ],
   "source": [
    "# evaluating the decision tree model\n",
    "\n",
    "print(d_model.score(X_train, y_train))\n",
    "print(d_model.score(X_test, y_test))"
   ]
  },
  {
   "cell_type": "code",
   "execution_count": 88,
   "metadata": {},
   "outputs": [
    {
     "name": "stdout",
     "output_type": "stream",
     "text": [
      "0.9957136733819117\n",
      "0.913\n"
     ]
    }
   ],
   "source": [
    "# evaluating the random forest model\n",
    "\n",
    "print(rf_model.score(X_train, y_train))\n",
    "print(rf_model.score(X_test, y_test))"
   ]
  },
  {
   "cell_type": "code",
   "execution_count": 89,
   "metadata": {
    "scrolled": true
   },
   "outputs": [
    {
     "name": "stdout",
     "output_type": "stream",
     "text": [
      "              precision    recall  f1-score   support\n",
      "\n",
      "           0       0.91      0.98      0.94       857\n",
      "           1       0.74      0.40      0.52       143\n",
      "\n",
      "    accuracy                           0.89      1000\n",
      "   macro avg       0.82      0.69      0.73      1000\n",
      "weighted avg       0.88      0.89      0.88      1000\n",
      "\n",
      "Accuracy: 0.894\n",
      "Precision: 0.7402597402597403\n",
      "Recall: 0.3986013986013986\n",
      "F1 Score: 0.5181818181818181\n"
     ]
    }
   ],
   "source": [
    "# Confusion Matrix and scores of Accuracy, Recall, Precision and F1-Score for linear model\n",
    "\n",
    "print(classification_report(y_test, l_model.predict(X_test)))\n",
    "\n",
    "print(\"Accuracy:\",accuracy_score(y_test,l_model.predict(X_test)))\n",
    "print(\"Precision:\",precision_score(y_test,l_model.predict(X_test)))\n",
    "print(\"Recall:\",recall_score(y_test,l_model.predict(X_test)))\n",
    "print(\"F1 Score:\",f1_score(y_test,l_model.predict(X_test)))"
   ]
  },
  {
   "cell_type": "code",
   "execution_count": 90,
   "metadata": {},
   "outputs": [
    {
     "name": "stdout",
     "output_type": "stream",
     "text": [
      "              precision    recall  f1-score   support\n",
      "\n",
      "           0       0.88      0.98      0.93       857\n",
      "           1       0.66      0.19      0.29       143\n",
      "\n",
      "    accuracy                           0.87      1000\n",
      "   macro avg       0.77      0.59      0.61      1000\n",
      "weighted avg       0.85      0.87      0.84      1000\n",
      "\n",
      "Accuracy: 0.87\n",
      "Precision: 0.6585365853658537\n",
      "Recall: 0.1888111888111888\n",
      "F1 Score: 0.2934782608695652\n"
     ]
    }
   ],
   "source": [
    "# Confusion Matrix and scores of Accuracy, Recall, Precision and F1-Score for DecionTree model\n",
    "\n",
    "print(classification_report(y_test, d_model.predict(X_test)))\n",
    "\n",
    "print(\"Accuracy:\",accuracy_score(y_test,d_model.predict(X_test)))\n",
    "print(\"Precision:\",precision_score(y_test,d_model.predict(X_test)))\n",
    "print(\"Recall:\",recall_score(y_test,d_model.predict(X_test)))\n",
    "print(\"F1 Score:\",f1_score(y_test,d_model.predict(X_test)))"
   ]
  },
  {
   "cell_type": "code",
   "execution_count": 91,
   "metadata": {},
   "outputs": [
    {
     "name": "stdout",
     "output_type": "stream",
     "text": [
      "              precision    recall  f1-score   support\n",
      "\n",
      "           0       0.92      0.98      0.95       857\n",
      "           1       0.84      0.48      0.61       143\n",
      "\n",
      "    accuracy                           0.91      1000\n",
      "   macro avg       0.88      0.73      0.78      1000\n",
      "weighted avg       0.91      0.91      0.90      1000\n",
      "\n",
      "Accuracy: 0.913\n",
      "Precision: 0.8414634146341463\n",
      "Recall: 0.4825174825174825\n",
      "F1 Score: 0.6133333333333333\n"
     ]
    }
   ],
   "source": [
    "# Confusion Matrix and scores of Accuracy, Recall, Precision and F1-Score for RandomForest model\n",
    "\n",
    "print(classification_report(y_test, rf_model.predict(X_test)))\n",
    "\n",
    "print(\"Accuracy:\",accuracy_score(y_test,rf_model.predict(X_test)))\n",
    "print(\"Precision:\",precision_score(y_test,rf_model.predict(X_test)))\n",
    "print(\"Recall:\",recall_score(y_test,rf_model.predict(X_test)))\n",
    "print(\"F1 Score:\",f1_score(y_test,rf_model.predict(X_test)))"
   ]
  },
  {
   "cell_type": "markdown",
   "metadata": {},
   "source": [
    "### overfiting-Underfitting Analysis\n",
    "\n",
    "1. for the logisticRegression and the DecisionTree model there was no overfitting since the difference between the R^2 score of the training and the testing data sets is not significant, also there was underfitting since the R^2 of the test data set is greater than that of the training set.\n",
    "1. but for the Randomforest model the data was a little bit overfitted since the variance between the scores are kind of much."
   ]
  },
  {
   "cell_type": "markdown",
   "metadata": {},
   "source": [
    "# Evaluation\n",
    "\n",
    "- Select the best performing model and write your comments about why choose this model.\n",
    "- Analyse results and make comment about how you can improve model."
   ]
  },
  {
   "cell_type": "code",
   "execution_count": 109,
   "metadata": {},
   "outputs": [],
   "source": [
    "# before selecting the best model, i will be working on the high variance using the GridSearchcv\n",
    "# importing the model\n",
    "from sklearn.model_selection import GridSearchCV\n",
    "from sklearn.ensemble import GradientBoostingClassifier"
   ]
  },
  {
   "cell_type": "code",
   "execution_count": 103,
   "metadata": {},
   "outputs": [
    {
     "name": "stdout",
     "output_type": "stream",
     "text": [
      "Fitting 2 folds for each of 1960 candidates, totalling 3920 fits\n"
     ]
    },
    {
     "name": "stderr",
     "output_type": "stream",
     "text": [
      "[Parallel(n_jobs=-1)]: Using backend LokyBackend with 4 concurrent workers.\n",
      "[Parallel(n_jobs=-1)]: Done  42 tasks      | elapsed:   10.3s\n",
      "[Parallel(n_jobs=-1)]: Done 192 tasks      | elapsed:   16.0s\n",
      "[Parallel(n_jobs=-1)]: Done 442 tasks      | elapsed:   25.3s\n",
      "[Parallel(n_jobs=-1)]: Done 792 tasks      | elapsed:   42.4s\n",
      "[Parallel(n_jobs=-1)]: Done 1242 tasks      | elapsed:  1.1min\n",
      "[Parallel(n_jobs=-1)]: Done 1792 tasks      | elapsed:  1.7min\n",
      "[Parallel(n_jobs=-1)]: Done 2442 tasks      | elapsed:  2.3min\n",
      "[Parallel(n_jobs=-1)]: Done 3192 tasks      | elapsed:  3.2min\n",
      "[Parallel(n_jobs=-1)]: Done 3920 out of 3920 | elapsed:  4.1min finished\n",
      "C:\\Users\\user\\Anaconda3\\lib\\site-packages\\sklearn\\model_selection\\_search.py:714: DataConversionWarning: A column-vector y was passed when a 1d array was expected. Please change the shape of y to (n_samples,), for example using ravel().\n",
      "  self.best_estimator_.fit(X, y, **fit_params)\n"
     ]
    },
    {
     "data": {
      "text/plain": [
       "GridSearchCV(cv=2, error_score='raise-deprecating',\n",
       "             estimator=RandomForestClassifier(bootstrap=True, class_weight=None,\n",
       "                                              criterion='gini', max_depth=None,\n",
       "                                              max_features='auto',\n",
       "                                              max_leaf_nodes=None,\n",
       "                                              min_impurity_decrease=0.0,\n",
       "                                              min_impurity_split=None,\n",
       "                                              min_samples_leaf=1,\n",
       "                                              min_samples_split=2,\n",
       "                                              min_weight_fraction_leaf=0.0,\n",
       "                                              n_estimators=20, n_jobs=None,\n",
       "                                              oob_score=False, random_state=0,\n",
       "                                              verbose=0, warm_start=False),\n",
       "             iid=True, n_jobs=-1,\n",
       "             param_grid={'max_depth': range(2, 10),\n",
       "                         'min_samples_leaf': range(2, 100, 2),\n",
       "                         'min_samples_split': [2, 4, 6, 8, 10]},\n",
       "             pre_dispatch='2*n_jobs', refit=True, return_train_score=False,\n",
       "             scoring=None, verbose=1)"
      ]
     },
     "execution_count": 103,
     "metadata": {},
     "output_type": "execute_result"
    }
   ],
   "source": [
    "tree = RandomForestClassifier(n_estimators=20, random_state=0)\n",
    "param_grid = {'max_depth': range(2, 10), 'min_samples_split': [2, 4, 6, 8, 10], 'min_samples_leaf': range(2,100,2)}\n",
    "grid_search = GridSearchCV(tree, param_grid, cv=2, n_jobs=-1, verbose=1, iid=True)\n",
    "grid_search.fit(X_train, y_train)"
   ]
  },
  {
   "cell_type": "code",
   "execution_count": 104,
   "metadata": {},
   "outputs": [],
   "source": [
    "best_params = grid_search.best_params_"
   ]
  },
  {
   "cell_type": "code",
   "execution_count": 105,
   "metadata": {},
   "outputs": [
    {
     "data": {
      "text/plain": [
       "{'max_depth': 9, 'min_samples_leaf': 4, 'min_samples_split': 2}"
      ]
     },
     "execution_count": 105,
     "metadata": {},
     "output_type": "execute_result"
    }
   ],
   "source": [
    "best_params"
   ]
  },
  {
   "cell_type": "code",
   "execution_count": 106,
   "metadata": {},
   "outputs": [
    {
     "data": {
      "text/plain": [
       "0.9451350192884698"
      ]
     },
     "execution_count": 106,
     "metadata": {},
     "output_type": "execute_result"
    }
   ],
   "source": [
    "# training score\n",
    "\n",
    "grid_search.score(X_train, y_train)"
   ]
  },
  {
   "cell_type": "code",
   "execution_count": 107,
   "metadata": {},
   "outputs": [
    {
     "data": {
      "text/plain": [
       "0.907"
      ]
     },
     "execution_count": 107,
     "metadata": {},
     "output_type": "execute_result"
    }
   ],
   "source": [
    "# testing score\n",
    "grid_search.score(X_test, y_test)"
   ]
  },
  {
   "cell_type": "code",
   "execution_count": 118,
   "metadata": {},
   "outputs": [
    {
     "name": "stdout",
     "output_type": "stream",
     "text": [
      "              precision    recall  f1-score   support\n",
      "\n",
      "           0       0.91      0.99      0.95       857\n",
      "           1       0.92      0.38      0.54       143\n",
      "\n",
      "    accuracy                           0.91      1000\n",
      "   macro avg       0.91      0.69      0.75      1000\n",
      "weighted avg       0.91      0.91      0.89      1000\n",
      "\n",
      "[[852   5]\n",
      " [ 88  55]]\n"
     ]
    }
   ],
   "source": [
    "# this is the confusion matrix\n",
    "print(confusion_matrix(y_test, grid_search.predict(X_test)))"
   ]
  },
  {
   "cell_type": "code",
   "execution_count": 140,
   "metadata": {},
   "outputs": [
    {
     "name": "stdout",
     "output_type": "stream",
     "text": [
      "              precision    recall  f1-score   support\n",
      "\n",
      "           0       0.91      0.99      0.95       857\n",
      "           1       0.92      0.38      0.54       143\n",
      "\n",
      "    accuracy                           0.91      1000\n",
      "   macro avg       0.91      0.69      0.75      1000\n",
      "weighted avg       0.91      0.91      0.89      1000\n",
      "\n",
      "Accuracy: 0.907\n",
      "Precision: 0.9166666666666666\n",
      "Recall: 0.38461538461538464\n",
      "F1 Score: 0.541871921182266\n"
     ]
    }
   ],
   "source": [
    " # Confusion Matrix and scores of Accuracy, Recall, Precision and F1-Score for GridSearched RandomForest model\n",
    "\n",
    "print(classification_report(y_test, grid_search.predict(X_test)))\n",
    "\n",
    "print(\"Accuracy:\",accuracy_score(y_test, grid_search.predict(X_test)))\n",
    "print(\"Precision:\",precision_score(y_test, grid_search.predict(X_test)))\n",
    "print(\"Recall:\",recall_score(y_test, grid_search.predict(X_test)))\n",
    "print(\"F1 Score:\",f1_score(y_test, grid_search.predict(X_test)))"
   ]
  },
  {
   "cell_type": "code",
   "execution_count": 141,
   "metadata": {
    "scrolled": false
   },
   "outputs": [
    {
     "name": "stdout",
     "output_type": "stream",
     "text": [
      "Fitting 2 folds for each of 4655 candidates, totalling 9310 fits\n"
     ]
    },
    {
     "name": "stderr",
     "output_type": "stream",
     "text": [
      "[Parallel(n_jobs=-1)]: Using backend LokyBackend with 4 concurrent workers.\n",
      "[Parallel(n_jobs=-1)]: Done  42 tasks      | elapsed:   11.5s\n",
      "[Parallel(n_jobs=-1)]: Done 192 tasks      | elapsed:   16.8s\n",
      "[Parallel(n_jobs=-1)]: Done 442 tasks      | elapsed:   25.6s\n",
      "[Parallel(n_jobs=-1)]: Done 792 tasks      | elapsed:   45.3s\n",
      "[Parallel(n_jobs=-1)]: Done 1242 tasks      | elapsed:  1.4min\n",
      "[Parallel(n_jobs=-1)]: Done 1792 tasks      | elapsed:  2.4min\n",
      "[Parallel(n_jobs=-1)]: Done 2442 tasks      | elapsed:  3.9min\n",
      "[Parallel(n_jobs=-1)]: Done 3192 tasks      | elapsed:  6.3min\n",
      "[Parallel(n_jobs=-1)]: Done 4042 tasks      | elapsed:  9.1min\n",
      "[Parallel(n_jobs=-1)]: Done 4992 tasks      | elapsed: 12.7min\n",
      "[Parallel(n_jobs=-1)]: Done 6042 tasks      | elapsed: 16.9min\n",
      "[Parallel(n_jobs=-1)]: Done 7192 tasks      | elapsed: 21.7min\n",
      "[Parallel(n_jobs=-1)]: Done 8442 tasks      | elapsed: 27.2min\n",
      "[Parallel(n_jobs=-1)]: Done 9310 out of 9310 | elapsed: 30.8min finished\n",
      "C:\\Users\\user\\Anaconda3\\lib\\site-packages\\sklearn\\ensemble\\gradient_boosting.py:1450: DataConversionWarning: A column-vector y was passed when a 1d array was expected. Please change the shape of y to (n_samples, ), for example using ravel().\n",
      "  y = column_or_1d(y, warn=True)\n"
     ]
    },
    {
     "data": {
      "text/plain": [
       "GridSearchCV(cv=2, error_score='raise-deprecating',\n",
       "             estimator=GradientBoostingClassifier(criterion='friedman_mse',\n",
       "                                                  init=None, learning_rate=0.1,\n",
       "                                                  loss='deviance', max_depth=3,\n",
       "                                                  max_features=None,\n",
       "                                                  max_leaf_nodes=None,\n",
       "                                                  min_impurity_decrease=0.0,\n",
       "                                                  min_impurity_split=None,\n",
       "                                                  min_samples_leaf=1,\n",
       "                                                  min_samples_split=2,\n",
       "                                                  min_weight_fraction_leaf=0.0,\n",
       "                                                  n_estimators=20,\n",
       "                                                  n_iter_no_change=None,\n",
       "                                                  presort='auto',\n",
       "                                                  random_state=None,\n",
       "                                                  subsample=1.0, tol=0.0001,\n",
       "                                                  validation_fraction=0.1,\n",
       "                                                  verbose=0, warm_start=False),\n",
       "             iid=True, n_jobs=-1,\n",
       "             param_grid={'max_depth': range(1, 20),\n",
       "                         'min_samples_leaf': range(2, 100, 2),\n",
       "                         'min_samples_split': [2, 4, 6, 8, 10]},\n",
       "             pre_dispatch='2*n_jobs', refit=True, return_train_score=False,\n",
       "             scoring=None, verbose=1)"
      ]
     },
     "execution_count": 141,
     "metadata": {},
     "output_type": "execute_result"
    }
   ],
   "source": [
    "# trying out with GradientBooosting model\n",
    "\n",
    "rgr = GradientBoostingClassifier(n_estimators=20)\n",
    "param_grid = {'max_depth': range(1, 20), \n",
    "              'min_samples_leaf': range(2,100,2),\n",
    "              'min_samples_split': [2, 4, 6, 8, 10]}\n",
    "gradient_boosting = GridSearchCV(rgr, param_grid, cv=2, n_jobs=-1, verbose=1, iid=True)\n",
    "gradient_boosting.fit(X_train, y_train)"
   ]
  },
  {
   "cell_type": "code",
   "execution_count": 142,
   "metadata": {},
   "outputs": [
    {
     "data": {
      "text/plain": [
       "{'max_depth': 10, 'min_samples_leaf': 20, 'min_samples_split': 8}"
      ]
     },
     "execution_count": 142,
     "metadata": {},
     "output_type": "execute_result"
    }
   ],
   "source": [
    "gradient_boosting.best_params_"
   ]
  },
  {
   "cell_type": "code",
   "execution_count": 143,
   "metadata": {},
   "outputs": [
    {
     "name": "stdout",
     "output_type": "stream",
     "text": [
      "0.9635662237462495\n",
      "0.909\n"
     ]
    }
   ],
   "source": [
    "print(gradient_boosting.score(X_train, y_train))\n",
    "print(gradient_boosting.score(X_test, y_test))"
   ]
  },
  {
   "cell_type": "code",
   "execution_count": 144,
   "metadata": {},
   "outputs": [
    {
     "data": {
      "text/plain": [
       "array([[842,  15],\n",
       "       [ 76,  67]], dtype=int64)"
      ]
     },
     "execution_count": 144,
     "metadata": {},
     "output_type": "execute_result"
    }
   ],
   "source": [
    "confusion_matrix(y_test, gradient_boosting.predict(X_test))"
   ]
  },
  {
   "cell_type": "code",
   "execution_count": 145,
   "metadata": {},
   "outputs": [
    {
     "name": "stdout",
     "output_type": "stream",
     "text": [
      "              precision    recall  f1-score   support\n",
      "\n",
      "           0       0.92      0.98      0.95       857\n",
      "           1       0.82      0.47      0.60       143\n",
      "\n",
      "    accuracy                           0.91      1000\n",
      "   macro avg       0.87      0.73      0.77      1000\n",
      "weighted avg       0.90      0.91      0.90      1000\n",
      "\n",
      "Accuracy: 0.909\n",
      "Precision: 0.8170731707317073\n",
      "Recall: 0.46853146853146854\n",
      "F1 Score: 0.5955555555555555\n"
     ]
    }
   ],
   "source": [
    "# Confusion Matrix and scores of Accuracy, Recall, Precision and F1-Score for GradientBoosting model\n",
    "\n",
    "print(classification_report(y_test, gradient_boosting.predict(X_test)))\n",
    "\n",
    "print(\"Accuracy:\",accuracy_score(y_test, gradient_boosting.predict(X_test)))\n",
    "print(\"Precision:\",precision_score(y_test, gradient_boosting.predict(X_test)))\n",
    "print(\"Recall:\",recall_score(y_test, gradient_boosting.predict(X_test)))\n",
    "print(\"F1 Score:\",f1_score(y_test, gradient_boosting.predict(X_test)))"
   ]
  },
  {
   "cell_type": "markdown",
   "metadata": {},
   "source": [
    "### Best model\n",
    "from the nature of the dataset, the label class distribution is unbalanced and this will affect the models evaluations, and because of the above reason the best models to handle this problem are the `ensemble models` specifically the `GradientBoostingClassifier`."
   ]
  },
  {
   "cell_type": "markdown",
   "metadata": {},
   "source": [
    "### Result Analysis\n",
    "\n",
    "Accuracy score is the best metriic for evaluating a highly unbalaced dataset classes, and from the results obtained from all the models, they seem to possess a high accuracy score although the ensemble models have the highest scores.\n",
    "\n",
    "since Precision and recall measures how the `actual Negative` and `actual Positive` classes have been classified correctly, and from the results obtained the ensemble models performed best.\n",
    "\n",
    "Lastly the f1_score shows how balanced the precision_recall values that are obtained from each model, knowning the existence of the precision-recall trade-off. it is impossible to obtain a high precision and recall at the same parameter tuning."
   ]
  }
 ],
 "metadata": {
  "kernelspec": {
   "display_name": "Python 3",
   "language": "python",
   "name": "python3"
  },
  "language_info": {
   "codemirror_mode": {
    "name": "ipython",
    "version": 3
   },
   "file_extension": ".py",
   "mimetype": "text/x-python",
   "name": "python",
   "nbconvert_exporter": "python",
   "pygments_lexer": "ipython3",
   "version": "3.7.4"
  }
 },
 "nbformat": 4,
 "nbformat_minor": 4
}
